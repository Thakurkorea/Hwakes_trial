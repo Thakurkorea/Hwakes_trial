{
  "nbformat": 4,
  "nbformat_minor": 0,
  "metadata": {
    "colab": {
      "provenance": []
    },
    "kernelspec": {
      "name": "python3",
      "display_name": "Python 3"
    },
    "language_info": {
      "name": "python"
    }
  },
  "cells": [
    {
      "cell_type": "code",
      "source": [
        "# pip install pyhawkes"
      ],
      "metadata": {
        "id": "VoSCl7ToFjUo"
      },
      "execution_count": null,
      "outputs": []
    },
    {
      "cell_type": "code",
      "execution_count": null,
      "metadata": {
        "id": "U2WMxDHOFU9b"
      },
      "outputs": [],
      "source": [
        "import numpy as np\n",
        "import pyhawkes\n",
        "\n",
        "# Generate some synthetic data\n",
        "np.random.seed(0)\n",
        "T = 1000.0\n",
        "dt = 0.1\n",
        "N = 100\n",
        "K = 2\n",
        "D = 3\n",
        "M = 5\n",
        "\n",
        "mu = np.ones((N,)) * 0.2\n",
        "A = np.zeros((N, N, K))\n",
        "A[:, :, 0] = np.eye(N)\n",
        "A[:, :, 1] = np.eye(N) * 2.0\n",
        "A = np.cumsum(A, axis=2)\n",
        "\n",
        "history = []\n",
        "times = []\n",
        "for n in range(N):\n",
        "    t = 0\n",
        "    h = []\n",
        "    while t < T:\n",
        "        t = t + np.random.exponential(1.0 / mu[n])\n",
        "        if t < T:\n",
        "            h.append(t)\n",
        "    history.append(h)\n",
        "    times.append(np.array(h))\n",
        "\n",
        "# Fit a Hawkes model to the data\n",
        "model = pyhawkes.models.DiscreteTimeNetworkHawkesModel(K=K, dt=dt, max_history=int(T / dt))\n",
        "model.add_data(np.concatenate(times), history=history)\n",
        "\n",
        "model.run_inference()\n",
        "\n",
        "# Print the estimated parameters of the Hawkes model\n",
        "print(\"Estimated mu: \", model.mu)\n",
        "print(\"Estimated A: \", model.A)\n"
      ]
    },
    {
      "cell_type": "code",
      "source": [
        "import numpy as np\n",
        "import statsmodels.api as sm\n",
        "\n",
        "# Generate some synthetic data\n",
        "np.random.seed(0)\n",
        "T = 1000.0\n",
        "dt = 0.1\n",
        "N = 100\n",
        "\n",
        "history = []\n",
        "times = []\n",
        "for n in range(N):\n",
        "    t = 0\n",
        "    h = []\n",
        "    while t < T:\n",
        "        t = t + np.random.exponential(1.0)\n",
        "        if t < T:\n",
        "            h.append(t)\n",
        "    history.append(h)\n",
        "    times.append(np.array(h))\n",
        "\n",
        "# Fit a point process model to the data\n",
        "times_all = np.concatenate(times)\n",
        "data = sm.nonparametric.KernelReg(endog=times_all, exog=None, var_type='c')\n",
        "results = data.fit()\n",
        "\n",
        "# Print the estimated parameters of the model\n",
        "print(\"Estimated rate function: \", results.density)\n"
      ],
      "metadata": {
        "id": "o9M3GJITF55v"
      },
      "execution_count": null,
      "outputs": []
    }
  ]
}