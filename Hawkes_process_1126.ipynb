{
 "cells": [
  {
   "cell_type": "code",
   "execution_count": 1,
   "id": "6e54c9d0",
   "metadata": {},
   "outputs": [],
   "source": [
    "import numpy as np\n",
    "import pandas as pd\n",
    "from scipy.optimize import curve_fit\n",
    "from sklearn.model_selection import train_test_split\n",
    "from sklearn.metrics import roc_curve, roc_auc_score\n",
    "from scipy.stats import chisquare\n",
    "import matplotlib.pyplot as plt\n",
    "# from sklearn.metrics import confusion_matrix\n",
    "from tkinter import filedialog\n",
    "import math"
   ]
  },
  {
   "cell_type": "code",
   "execution_count": 2,
   "id": "6654a8b9",
   "metadata": {},
   "outputs": [],
   "source": [
    "# #bring data file \n",
    "# datafile=filedialog.askopenfilename()\n",
    "# print(datafile)"
   ]
  },
  {
   "cell_type": "code",
   "execution_count": 3,
   "id": "0f715009",
   "metadata": {
    "scrolled": false
   },
   "outputs": [
    {
     "name": "stdout",
     "output_type": "stream",
     "text": [
      "False\n",
      "   Count   Time  aspect_kor          Y           X     D_Resi.  D_CattleF.  \\\n",
      "0      1  43740      169.88  38.264194  127.077194   660.68146  6918.82227   \n",
      "1      2  43749      198.43  38.091369  126.938628  1860.24194  1895.94299   \n",
      "\n",
      "     D_Water     Slope      D_Road  Aspect (cls)  Altitude        Date  \n",
      "0  108.16654  10.28732  6300.28564             5       179   10/2/2019  \n",
      "1  408.04413  12.57811  2202.90723             5       101  10/11/2019  \n",
      "             Count          Time   aspect_kor            Y            X  \\\n",
      "count  1687.000000   1687.000000  1687.000000  1687.000000  1687.000000   \n",
      "mean    844.000000  44122.542976   183.268216    38.030634   127.585567   \n",
      "std     487.139268    207.046462    89.118143     0.186875     0.523734   \n",
      "min       1.000000  43740.000000    -1.000000    37.119944   126.711692   \n",
      "25%     422.500000  43912.000000   126.785000    37.954869   127.117727   \n",
      "50%     844.000000  44169.000000   183.010000    38.074785   127.630083   \n",
      "75%    1265.500000  44278.000000   245.045000    38.156101   127.872263   \n",
      "max    1687.000000  44506.000000   359.260000    38.585950   129.160967   \n",
      "\n",
      "            D_Resi.    D_CattleF.      D_Water        Slope       D_Road  \\\n",
      "count   1687.000000   1687.000000  1687.000000  1687.000000  1687.000000   \n",
      "mean    1196.650661   2279.992649   287.193449    18.141473  1649.919461   \n",
      "std     1078.388604   1735.369619   398.862266     8.935924  1307.314112   \n",
      "min        0.000000      0.000000     0.000000     0.000000     0.000000   \n",
      "25%      510.000000   1021.763180    67.082040    11.408695   690.000000   \n",
      "50%      885.889400   1871.817260   192.093730    17.131110  1363.598140   \n",
      "75%     1513.885680   3067.124025   362.491390    24.346620  2323.305785   \n",
      "max    11522.070310  13728.991210  5318.721680    45.413170  8586.500980   \n",
      "\n",
      "       Aspect (cls)     Altitude  \n",
      "count   1687.000000  1687.000000  \n",
      "mean       4.749259   308.428571  \n",
      "std        2.007243   194.721042  \n",
      "min        0.000000     6.000000  \n",
      "25%        4.000000   155.000000  \n",
      "50%        5.000000   292.000000  \n",
      "75%        6.000000   423.000000  \n",
      "max        8.000000  1079.000000  \n"
     ]
    },
    {
     "data": {
      "text/plain": [
       "(None, None)"
      ]
     },
     "execution_count": 3,
     "metadata": {},
     "output_type": "execute_result"
    }
   ],
   "source": [
    "# import data\n",
    "# dff=pd.read_csv(datafile,header=0)\n",
    "dff=pd.read_csv(\"D:/Thakur/Hawkes_data/1687_hawkes_data.csv\",header=0)\n",
    "print(dff.isnull().values.any()) # check wheather any nan number\n",
    "print(dff.head(2)), print(dff.describe())"
   ]
  },
  {
   "cell_type": "code",
   "execution_count": 4,
   "id": "1efdc103",
   "metadata": {},
   "outputs": [
    {
     "name": "stdout",
     "output_type": "stream",
     "text": [
      "32.231137044220176\n"
     ]
    }
   ],
   "source": [
    "# lets measure the distances\n",
    "avr_dist=[]\n",
    "for i in range(0, len(dff)-1):# range(6*k,6*(k+1)):\n",
    "    if not (dff['X'][i],dff['Y'][i])== (dff['X'][i+1],dff['Y'][i+1]):\n",
    "        dis=math.acos(math.cos(math.radians(90-dff['Y'][i]))*math.cos(math.radians(90-dff['Y'][i+1]))\\\n",
    "          +math.sin(math.radians(90-dff['Y'][i])) *math.sin(math.radians(90-dff['Y'][i+1]))\\\n",
    "              *math.cos(math.radians( dff['X'][i]-dff['X'][i+1] ))) *6371\n",
    "    else:\n",
    "        dist=0\n",
    "    avr_dist.append(dis)\n",
    "print(np.mean(avr_dist))\n",
    "# print(avr_dist)"
   ]
  },
  {
   "cell_type": "code",
   "execution_count": 5,
   "id": "8c485fed",
   "metadata": {},
   "outputs": [
    {
     "data": {
      "text/plain": [
       "((1130, 4), (557, 4), (1130,), (557,))"
      ]
     },
     "execution_count": 5,
     "metadata": {},
     "output_type": "execute_result"
    }
   ],
   "source": [
    "# lets spilt the data to train test\n",
    "x=dff.iloc[:,1:5].values\n",
    "y=dff.iloc[:,0].values\n",
    "X_train, X_test, y_train, y_test = train_test_split(\n",
    "    x,y, test_size=0.33, random_state=42)\n",
    "\n",
    "np.shape(X_train),np.shape(X_test), np.shape(y_train), np.shape(y_test)"
   ]
  },
  {
   "cell_type": "code",
   "execution_count": 6,
   "id": "6348b7a1",
   "metadata": {
    "scrolled": true
   },
   "outputs": [],
   "source": [
    "# # using train test sample\n",
    "# t=np.array(X_train[:,0])\n",
    "# y=np.array(X_train[:,2])\n",
    "# x=np.array(X_train[:,3])\n",
    "# y=np.array(y_train)\n",
    "\n",
    "# without train test sample\n",
    "t=np.array(dff.iloc[:,1])\n",
    "y=np.array(dff.iloc[:,3])\n",
    "x=np.array(dff.iloc[:,4])\n",
    "Opt=np.array(dff.iloc[:,0])\n",
    "# spilting the sequential data for traning \n",
    "\n",
    "# t=np.array(dff.iloc[:1000,1])\n",
    "# y=np.array(dff.iloc[:1000,3])\n",
    "# x=np.array(dff.iloc[:1000,4])\n",
    "# Opt=np.array(dff.iloc[:1000,0])\n",
    "\n",
    "#testing samples \n",
    "tt=np.array(dff.iloc[1000:,1])\n",
    "yy=np.array(dff.iloc[1000:,3])\n",
    "xx=np.array(dff.iloc[1000:,4])\n",
    "Optt=np.array(dff.iloc[1000:,0])"
   ]
  },
  {
   "cell_type": "markdown",
   "id": "f23db793",
   "metadata": {},
   "source": [
    "# Hawkes equation"
   ]
  },
  {
   "cell_type": "markdown",
   "id": "503c5a16",
   "metadata": {},
   "source": [
    "$$ lamda = (1-p)u(x,y)+ (p*q*b)/\\pi* \\sum\\limits _{i=t_i <t} exp(-q(t-t_i)-b((x-x_i)^2+(y-y_i)^2))) $$"
   ]
  },
  {
   "cell_type": "code",
   "execution_count": 7,
   "id": "6b1f4d4e",
   "metadata": {},
   "outputs": [],
   "source": [
    "import matplotlib.pyplot as plt\n",
    "import numpy as np\n",
    "from scipy.optimize import curve_fit\n",
    "\n",
    "def func(X, p, a, b):\n",
    "    t,x,y = X\n",
    "    A=np.zeros(len(t))\n",
    "    for i in range(1,len(t)):\n",
    "        A[i]= np.exp(-a*(t[i]-t[i-1])\\\n",
    "                                   -b*((x[i]-x[i-1])**2+(y[i]-y[i-1])**2))+ A[i-1]\n",
    "    # f_logsum=np.sum(np.log(p+(p*q*b/math.pi)*A))\n",
    "#     lamda=(1-p)+((p)*a*b/math.pi)*np.cumsum(A)\n",
    "    lamda=(1-p)+((p)*a*b/math.pi)*A\n",
    "    return lamda"
   ]
  },
  {
   "cell_type": "code",
   "execution_count": 8,
   "id": "36ee716d",
   "metadata": {
    "scrolled": true
   },
   "outputs": [
    {
     "name": "stdout",
     "output_type": "stream",
     "text": [
      "[9.85978980e-01 9.99886192e+01 4.46988467e-02] [[ 1.44944501e+00 -2.32025068e+02  3.83656991e-02]\n",
      " [-2.32025068e+02  5.06093155e+04 -1.22082819e+01]\n",
      " [ 3.83656991e-02 -1.22082819e+01  3.74851177e-03]]\n"
     ]
    },
    {
     "data": {
      "image/png": "[encoded data removed]",
      "text/plain": [
       "<Figure size 432x288 with 1 Axes>"
      ]
     },
     "metadata": {
      "needs_background": "light"
     },
     "output_type": "display_data"
    },
    {
     "data": {
      "text/plain": [
       "Text(0.5, 1.0, 'Corelation of cof. plot')"
      ]
     },
     "execution_count": 8,
     "metadata": {},
     "output_type": "execute_result"
    },
    {
     "data": {
      "image/png": "[encoded data removed]",
      "text/plain": [
       "<Figure size 432x288 with 2 Axes>"
      ]
     },
     "metadata": {
      "needs_background": "light"
     },
     "output_type": "display_data"
    }
   ],
   "source": [
    "date=dff['Date'][0:len(t)]\n",
    "popt, pcov = curve_fit(func,(t,y,x),Opt,bounds=(0,[1,100,100]))\n",
    "# np.shape(t),np.shape(y),np.shape(x)\n",
    "print(popt,pcov)\n",
    "p,a,b=popt\n",
    "plt.plot(date,Opt,label='Observed')\n",
    "M=func((t,x,y),p,a,b)\n",
    "plt.plot(date,M,label='Fitted')\n",
    "plt.title('Fitted plot')\n",
    "plt.xlabel('Time')\n",
    "plt.ylabel('Output')\n",
    "plt.legend()\n",
    "plt.xticks(np.arange(0,500,90))\n",
    "plt.show()\n",
    "\n",
    "plt.imshow(pcov);plt.colorbar()\n",
    "plt.title('Corelation of cof. plot')"
   ]
  },
  {
   "cell_type": "code",
   "execution_count": 9,
   "id": "759f9cfc",
   "metadata": {},
   "outputs": [
    {
     "name": "stdout",
     "output_type": "stream",
     "text": [
      "The R-square value from numpy model between model and observed data is 0.9982\n"
     ]
    }
   ],
   "source": [
    "# find the R-square value between model value and ASF cases \n",
    "Y_model=np.array(M.astype(int))\n",
    "y_obj=np.array(Opt.astype(int))\n",
    "corr_matrix = np.corrcoef(y_obj, Y_model)\n",
    "corr = corr_matrix[0,1]\n",
    "R_sq = corr**2\n",
    "print(f'The R-square value from numpy model between model and observed data is {round(R_sq,4)}')"
   ]
  },
  {
   "cell_type": "code",
   "execution_count": 10,
   "id": "bb68ceb6",
   "metadata": {},
   "outputs": [
    {
     "name": "stdout",
     "output_type": "stream",
     "text": [
      "The R-square value from sklearn model between model and observed data is 0.9981\n"
     ]
    }
   ],
   "source": [
    "from sklearn.metrics import r2_score\n",
    "R_sq=r2_score(y_obj, Y_model)\n",
    "print(f'The R-square value from sklearn model between model and observed data is {round(R_sq,4)}')"
   ]
  },
  {
   "cell_type": "code",
   "execution_count": 11,
   "id": "16ab9970",
   "metadata": {
    "scrolled": false
   },
   "outputs": [
    {
     "data": {
      "image/png": "[encoded data removed]",
      "text/plain": [
       "<Figure size 432x288 with 1 Axes>"
      ]
     },
     "metadata": {
      "needs_background": "light"
     },
     "output_type": "display_data"
    }
   ],
   "source": [
    "#Predicted time and new coordinates \n",
    "np.random.seed(0)\n",
    "t0,x0,y0,opt0=t[-1],x[-1],y[-1],Opt[-1]\n",
    "tp=[]\n",
    "for tt in range(1,301):    # lets predict for 100 days ahead\n",
    "    tp.append(t[-1]+tt)\n",
    "# xp=np.arange(min(x),max(x),10)    \n",
    "xp=np.random.choice(np.arange(min(x),max(x),0.00005)  ,10000,replace=False)  # 10000 random x points betn min and max of x\n",
    "yp=np.random.choice(np.arange(min(y),max(y),0.00005)  ,10000,replace=False) \n",
    "\n",
    "plt.scatter(xp,yp)\n",
    "plt.title('lets think possible excitation sites')\n",
    "Time=[t0];x_cord=[x0];y_cord=[y0];cnt=[opt0] # simulatiion time, coordinates and cnt as counts "
   ]
  },
  {
   "cell_type": "code",
   "execution_count": 12,
   "id": "a418d9fd",
   "metadata": {
    "scrolled": false
   },
   "outputs": [
    {
     "name": "stdout",
     "output_type": "stream",
     "text": [
      "44506 128.657591 37.119982 1687 [44506] 1687 [128.657591] [37.119982]\n",
      "44507 44506\n"
     ]
    }
   ],
   "source": [
    "print(t0,x0,y0,opt0, Time,cnt[-1],x_cord,y_cord)\n",
    "print(tp[0],Time[-1])"
   ]
  },
  {
   "cell_type": "code",
   "execution_count": 37,
   "id": "1650f1b9",
   "metadata": {
    "scrolled": true
   },
   "outputs": [
    {
     "data": {
      "text/plain": [
       "(44506, 44507, 0.9859789797172989, 99.98861916789257, 0.04469884670819555)"
      ]
     },
     "execution_count": 37,
     "metadata": {},
     "output_type": "execute_result"
    }
   ],
   "source": [
    "Time[-1],tp[0], p,a,b\n"
   ]
  },
  {
   "cell_type": "code",
   "execution_count": 14,
   "id": "151ae110",
   "metadata": {},
   "outputs": [],
   "source": [
    "# cntt=[1687]\n",
    "# for j in range(10):\n",
    "# #     print(tp[j],Time[-1]) \n",
    "#     cnt=[1687]\n",
    "#     for i in range(1500):\n",
    "# #         cnt[-1]=(1-p)+(np.exp(-a*(tp[j]-Time[-1])\\\n",
    "# #                                    -b*((xp[i]-x_cord[-1])**2+(yp[i]-y_cord[-1])**2)))*((p*a*b/math.pi))+ cnt[-1]\n",
    "#         cnt[-1]=(np.exp(-a*(tp[j]-Time[-1])\\\n",
    "#                                    -b*((xp[i]-x_cord[-1])**2+(yp[i]-y_cord[-1])**2)))*((p*a*b/math.pi))+ cnt[-1]\n",
    "#         cnt.append(cnt[-1])\n",
    "#         if cnt[-1]>1687:\n",
    "#             print(cnt[-1])\n",
    "        \n",
    "        "
   ]
  },
  {
   "cell_type": "code",
   "execution_count": 54,
   "id": "33de1e88",
   "metadata": {
    "scrolled": false
   },
   "outputs": [
    {
     "data": {
      "text/plain": [
       "1.239787864415213"
      ]
     },
     "execution_count": 54,
     "metadata": {},
     "output_type": "execute_result"
    }
   ],
   "source": [
    "(np.exp(-a*(0)-b*((127 -x_cord[-1])**2+(37-y_cord[-1])**2)))*((p*a*b/math.pi))"
   ]
  },
  {
   "cell_type": "code",
   "execution_count": 57,
   "id": "c658f03a",
   "metadata": {},
   "outputs": [],
   "source": [
    "cntt=[1687]    # current infected numbers \n",
    "for itrn in range(10):     # lets check for next 10 dayss \n",
    "    for tm in  tp:  # check for each time period\n",
    "        for xt,yt in zip(xp,yp):\n",
    "            extn=(np.exp(-a*(tm-Time[-1])\\\n",
    "                                   -b*((xt-x_cord[-1])**2+(yt-y_cord[-1])**2)))*((p*a*b/math.pi))\n",
    "            if np.round(extn)>=1:\n",
    "                print(extn,tm, xt, yt)"
   ]
  },
  {
   "cell_type": "code",
   "execution_count": null,
   "id": "430927c1",
   "metadata": {},
   "outputs": [],
   "source": [
    "# question what happened if 2 outbreaks present once at a time in a same point \n",
    "# assumption is outbreak once at a point in particular time \n",
    "# def predict_time_n_cord(X, p, a, b,t0,x0,y0,opt0):   # (x) time, coordiinates, (p,a,b) constants, predict_start_time, opt0: current outbreak number \n",
    "# t,x,y = X\n",
    "\n",
    "Time=[t0];x_cord=[x0];y_cord=[y0];count=[opt0]\n",
    "\n",
    "for j in range(5):\n",
    "    print(tp[j],Time[-1])\n",
    "    for i in range(0,10):\n",
    "#         excitation =(1-p)+(p*a*b/math.pi)*(np.exp((-a*(t[j]-time[-1])\\\n",
    "#                                -b*((x[i]-x_cord[-1])**2+(y[i]-y_cord[-1])**2))))#+count[-1]) #A[i-1]   # cumulatinve value is not considered \n",
    "#         excitation =(1-p)+(p*a*b/math.pi)*(np.exp(-a*(tp[j]-time[-1])\\\n",
    "#                                         -b*((xp[i]-x_cord[-1])**2+(yp[i]-y_cord[-1])**2)))\\\n",
    "#                                         + count[-1]/(1-p)+(p*a*b/math.pi)\n",
    "        excitation =(np.exp(-a*(tp[j]-Time[-1])\\\n",
    "                                        -b*((xp[i]-x_cord[-1])**2+(yp[i]-y_cord[-1])**2)))+count[-1]\n",
    "#         excitation =(p*a*b/math.pi)*(np.exp(-a*(tp[j]-time[-1])\\\n",
    "#                                                   -b*((xp[i]-x_cord[-1])**2+(yp[i]-y_cord[-1])**2)))\n",
    "#         excitation =(np.exp(-a*(tp[j]-time[-1])\\\n",
    "#                                                   -b*((xp[i]-x_cord[-1])**2+(yp[i]-y_cord[-1])**2)))\n",
    "#         print(excitation,xp[i])\n",
    "        count.append(count[-1]+1)\n",
    "        \n",
    "    Time.append(tp[j])\n",
    "#         if (round(excitation)-count[-1])>=1:\n",
    "# #         if excitation>1:\n",
    "#             print(tp[j],count[-1],time[-1])\n",
    "#             print('done')\n",
    "# #             print(excitation,tp[j],xp[i],yp[i])\n",
    "#             time.append(tp[j])\n",
    "#             x_cord.append(xp[i])\n",
    "#             y_cord.append(yp[i])\n",
    "#             count.append(count[-1]+1)\n",
    "#             print('what is happening ')\n",
    " \n",
    "    # f_logsum=np.sum(np.log(p+(p*q*b/math.pi)*A))\n",
    "#     lamda=(1-p)+((p)*a*b/math.pi)*A\n",
    "#     return lamda"
   ]
  },
  {
   "cell_type": "code",
   "execution_count": null,
   "id": "0cd13f93",
   "metadata": {
    "scrolled": false
   },
   "outputs": [],
   "source": [
    "##################################### ALL together ########################\n",
    "# setting the new function with new approach \n",
    "def func(X, p, a, b):\n",
    "    t,x,y = X\n",
    "    A=[0]\n",
    "    for i in range(1,len(t)):\n",
    "        xxx=(np.exp((-a*(t[i]-t[i-1])\\\n",
    "                                   -b*((x[i]-x[i-1])**2+(y[i]-y[i-1])**2))))+A[i-1]\n",
    "        A.append(xxx)\n",
    "        lamda=(1-p)+(p*a*b/math.pi)*np.array(A)\n",
    "    return lamda\n",
    "popt, pcov = curve_fit(func,(t,y,x),Opt,bounds=(0,[1,100,100]))\n",
    "p,a,b=popt\n",
    "print(popt)\n",
    "M=func((t,x,y),p,a,b)\n",
    "p,a,b=popt\n",
    "plt.plot(date,Opt,label='Observed')\n",
    "M=func((t,x,y),p,a,b)    # lets check first 1000 items\n",
    "plt.plot(date,M,label='Fitted')        # lets plot first 1000 items\n",
    "plt.title('Fitted plot')\n",
    "plt.xlabel('Time')\n",
    "plt.ylabel('Output')\n",
    "plt.legend()\n",
    "plt.xticks(np.arange(0,500,90))\n",
    "plt.show()\n",
    "# find the R-square value between model value and ASF cases \n",
    "Y_model=np.array(M)\n",
    "y_obj=np.array(Opt.astype(int))\n",
    "corr_matrix = np.corrcoef(y_obj, Y_model)\n",
    "corr = corr_matrix[0,1]\n",
    "R_sq = corr**2\n",
    "print(f'The R-square value from numpy model between model and observed data is {round(R_sq,4)}')\n"
   ]
  },
  {
   "cell_type": "code",
   "execution_count": null,
   "id": "ae7c0eb9",
   "metadata": {},
   "outputs": [],
   "source": [
    "#lets, check only for first 1000 data\n",
    "t[:1000];y[:1000];x[:1000]\n",
    "popt, pcov = curve_fit(func,(t,y,x),Opt,bounds=(0,[1,100,100]))\n",
    "popt"
   ]
  },
  {
   "cell_type": "code",
   "execution_count": null,
   "id": "54fdb32a",
   "metadata": {},
   "outputs": [],
   "source": [
    "M=func((t[:1000],x[:1000],y[:1000]),p,a,b)    # lets check first 1000 items\n",
    "plt.plot(date[:1000],M,label='Fitted')        # lets plot first 1000 items\n",
    "plt.plot(date[:1000],Opt[:1000],label='Observed')\n",
    "\n",
    "plt.xticks(np.arange(0,500,90))\n",
    "plt.show()"
   ]
  },
  {
   "cell_type": "code",
   "execution_count": null,
   "id": "9d8d4395",
   "metadata": {},
   "outputs": [],
   "source": [
    "M[:20]*(p*a*b/math.pi)+10"
   ]
  },
  {
   "cell_type": "code",
   "execution_count": null,
   "id": "bdf6aa27",
   "metadata": {
    "scrolled": true
   },
   "outputs": [],
   "source": [
    "p,a,b=popt\n",
    "def func(X, p, a, b):\n",
    "    t,x,y = X\n",
    "    A=np.zeros(len(t))\n",
    "    for i in range(1,len(t)):\n",
    "        A[i-1]= np.exp((-a*(t[i]-t[i-1])\\\n",
    "                                   -b*((x[i]-x[i-1])**2+(y[i]-y[i-1])**2)))+A[i-1]\n",
    "        \n",
    "#         print(round(A[i-1]))\n",
    "    # f_logsum=np.sum(np.log(p+(p*q*b/math.pi)*A))\n",
    "#     lamda=(1-p)+((p)*a*b/math.pi)*np.cumsum(A)  #if saved as A[i-1]\n",
    "    lamda=(1-p)+((p)*a*b/math.pi)*(A) #if saved as A[i]\n",
    "    lamda.astype(int)\n",
    "    print(np.sum(A),len(A))\n",
    "    plt.plot(A[:10])\n",
    "    plt.show()\n",
    "    print((A[:10]))\n",
    "    return lamda\n",
    "M=func((t,x,y),p,a,b)\n",
    "print(max(M))"
   ]
  },
  {
   "cell_type": "code",
   "execution_count": null,
   "id": "4f216d59",
   "metadata": {},
   "outputs": [],
   "source": [
    "plt.plot(M)\n",
    "print(max(M),min(M))"
   ]
  },
  {
   "cell_type": "code",
   "execution_count": null,
   "id": "a2f5e6e8",
   "metadata": {
    "scrolled": true
   },
   "outputs": [],
   "source": [
    "plt.plot(func((tp,xp,yp),p,a,b))"
   ]
  }
 ],
 "metadata": {
  "kernelspec": {
   "display_name": "Python 3 (ipykernel)",
   "language": "python",
   "name": "python3"
  },
  "language_info": {
   "codemirror_mode": {
    "name": "ipython",
    "version": 3
   },
   "file_extension": ".py",
   "mimetype": "text/x-python",
   "name": "python",
   "nbconvert_exporter": "python",
   "pygments_lexer": "ipython3",
   "version": "3.8.12"
  }
 },
 "nbformat": 4,
 "nbformat_minor": 5
}
